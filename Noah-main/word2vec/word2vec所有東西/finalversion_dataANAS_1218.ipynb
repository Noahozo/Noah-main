{
 "cells": [
  {
   "cell_type": "code",
   "execution_count": 1,
   "metadata": {
    "tags": []
   },
   "outputs": [],
   "source": [
    "import os\n",
    "\n",
    "import numpy as np\n",
    "import pandas as pd\n",
    "\n",
    "from sklearn.model_selection import train_test_split\n",
    "from sklearn import datasets, linear_model\n",
    "from sklearn.metrics import mean_squared_error, r2_score\n",
    "from sklearn.preprocessing import PolynomialFeatures\n",
    "from sklearn import preprocessing\n",
    "from sklearn import neighbors, datasets\n",
    "from sklearn.metrics import accuracy_score, confusion_matrix\n",
    "from sklearn.ensemble import RandomForestClassifier\n",
    "from sklearn.ensemble import AdaBoostRegressor\n",
    "from sklearn.ensemble import AdaBoostClassifier\n",
    "from sklearn.tree import DecisionTreeClassifier\n",
    "from sklearn.tree import DecisionTreeRegressor\n",
    "from sklearn.ensemble import RandomForestRegressor\n",
    "from sklearn.datasets import make_regression\n",
    "from sklearn.model_selection import GridSearchCV\n",
    "import xgboost as xgb\n",
    "\n",
    "import matplotlib.pyplot as plt"
   ]
  },
  {
   "cell_type": "markdown",
   "metadata": {},
   "source": [
    "## Read"
   ]
  },
  {
   "cell_type": "code",
   "execution_count": 2,
   "metadata": {
    "tags": []
   },
   "outputs": [],
   "source": [
    "df = pd.read_csv('./job7_all_clean.csv',encoding='utf-8-sig')"
   ]
  },
  {
   "cell_type": "code",
   "execution_count": 3,
   "metadata": {},
   "outputs": [
    {
     "name": "stdout",
     "output_type": "stream",
     "text": [
      "職缺連結        0\n",
      "職缺類別        0\n",
      "職位類別        0\n",
      "職位          0\n",
      "大職業編號       0\n",
      "           ..\n",
      "金旭飯店管裡系統    0\n",
      "金蝶          0\n",
      "鉅茂          0\n",
      "鼎基-ERP      0\n",
      "鼎新          0\n",
      "Length: 693, dtype: int64\n",
      "57127\n",
      "238623\n",
      "(57127, 693)\n"
     ]
    }
   ],
   "source": [
    "# data clean drop na \n",
    "df = df.dropna(thresh=29).reset_index(drop=True) #有內文 電池可有可無\n",
    "print(df.isnull().sum())\n",
    "print(len(df[\"職缺連結\"].values))\n",
    "print(sum(df.isnull().sum()))\n",
    "print(df.shape)"
   ]
  },
  {
   "cell_type": "code",
   "execution_count": 4,
   "metadata": {},
   "outputs": [
    {
     "name": "stdout",
     "output_type": "stream",
     "text": [
      "(21958, 693)\n"
     ]
    }
   ],
   "source": [
    "# 三種版本\n",
    "\n",
    "# df 有內文 電池可有可無\n",
    "# df\n",
    "\n",
    "# 有內文 有電池\n",
    "df = df.dropna().reset_index(drop=True) \n",
    "\n",
    "# 沒內文\n",
    "# df = df[df.isnull().any(axis=1)].reset_index(drop=True) \n",
    "\n",
    "print(df.shape)"
   ]
  },
  {
   "cell_type": "markdown",
   "metadata": {},
   "source": [
    "## df"
   ]
  },
  {
   "cell_type": "code",
   "execution_count": 5,
   "metadata": {},
   "outputs": [
    {
     "name": "stdout",
     "output_type": "stream",
     "text": [
      "Index(['職缺連結', '職缺類別', '職位類別', '職位', '大職業編號', '中職業編號', '小職業編號', '縣市', '地區',\n",
      "       '縣市編碼',\n",
      "       ...\n",
      "       '英文打字150以上', '英文打字20~50', '英文打字20以下', '英文打字50~75', '英文打字75~100',\n",
      "       '金旭飯店管裡系統', '金蝶', '鉅茂', '鼎基-ERP', '鼎新'],\n",
      "      dtype='object', length=693)\n",
      "693\n"
     ]
    }
   ],
   "source": [
    "#check col num\n",
    "print(df.columns)\n",
    "print(len(df.columns))"
   ]
  },
  {
   "cell_type": "code",
   "execution_count": 6,
   "metadata": {
    "scrolled": true
   },
   "outputs": [
    {
     "name": "stdout",
     "output_type": "stream",
     "text": [
      "Index(['職缺連結', '職缺類別', '職位類別', '職位', '大職業編號', '中職業編號', '小職業編號', '縣市', '地區',\n",
      "       '縣市編碼', '地區編碼', '公司連結', '供需人數', '職缺編號', '公司名稱', '職缺名稱', '更新日期', '工作內容',\n",
      "       '職務類別', '工作待遇', '工作性質', '上班地點', '管理責任', '上班時段', '需求人數', '工作經歷', '學歷要求',\n",
      "       '科系要求', '擅長工具', '工作技能', '其他條件', '福利制度', '學歷分佈', '性別分佈', '工作經驗分佈',\n",
      "       '年齡分佈', '語言能力分佈', '科系分佈', '技能分佈', '證照分佈', '資本額', '員工人數', '公司內文'],\n",
      "      dtype='object')\n",
      "Index(['3G', '3ds-Max', '3ds-Max-Design', '6-Sigma', 'A+', 'ABAQUS', 'ADA',\n",
      "       'ADC', 'ADO', 'ADSL',\n",
      "       ...\n",
      "       '英文打字150以上', '英文打字20~50', '英文打字20以下', '英文打字50~75', '英文打字75~100',\n",
      "       '金旭飯店管裡系統', '金蝶', '鉅茂', '鼎基-ERP', '鼎新'],\n",
      "      dtype='object', length=500)\n",
      "{'5-10年', '0-1年', '10年以上', '3-5年', '1-3年'}\n",
      "{'MES工程師', '系統分析師', '通訊軟體工程師', '其他資訊專業人員', '韌體設計工程師', '電子商務技術主管', '資料庫管理人員', 'BIOS工程師', '資訊設備管制人員', '電玩程式設計師', '演算法開發工程師', '系統維護_操作人員', '軟體專案主管', 'MIS_網管主管', '網路管理工程師', 'Internet程式設計師', '資訊助理人員', '網路安全分析師', 'MIS程式設計師', '軟體設計工程師'}\n",
      "{1, 2, 3, 4, 5, 6, 7, 8, 9, 10, 11, 12, 13, 15, 18, 20, 21, 25, 30, 50, 51, 80, 99}\n",
      "{'博士', '大學', '高中', '碩士', '專科'}\n",
      "{'5-10年', '0-1年', '10年以上', '3-5年', '1-3年'}\n",
      "{'全職'}\n",
      "{0, 4, 8, 12, 16}\n",
      "{'41600', '30800', '28015', '82000', '42000', '47000', '123076', '34230', '43000', '28371', '28500', '42700', '49000', '30100', '36570', '34615', '35400', '32466', '70000', '89000', '50000', '60000', '86153', '26400', '35000', '92000', '56153', '51846', '38461', '47500', '26000', '120000', '108000', '27500', '33770', '45150', '68000', '28000', '28900', '38000', '33800', '230769', '36923', '27692', '34000', '64000', '55000', '27810', '46000', '59230', '36153', '65384', '29000', '1000000', '45000', '65000', '25250', '32400', '25500', '32307', '27070', '34100', '31900', '80000', '33000', '85000', '36000', '35100', '36316', '51692', '33100', '31500', '160000', '31400', '30648', '150000', '56000', '33400', '42307', '28473', '35600', '54000', '43076', '34370', '41409', '130000', '44125', '57000', '36600', '153846', '35384', '64615', '27600', '92307', '48000', '38769', '44000', '75000', '26500', '46153', '69230', '39000', '30850', '33866', '57692', '59000', '73076', '43307', '40000', '34900', '750000', '48461', '32000', '84615', '30500', '48100', '76923', '58350', '58000', '51000', '42611', '30000', '37000', '32500', '30300', '30769', '110000', '27000', '33500', '130769', '138461', 'Y', '176923', '41000', '29175', '31000', '107692', '25300', '57750', '30200', '115384', '90000', '52000', '53000', '61538', '29600', '37692', '100000', '38370', '48696', '53846', '35200', '87000', '36500', '37180'}\n"
     ]
    }
   ],
   "source": [
    "# print raw data before get dummies\n",
    "print((df.iloc[:,0:43]).columns)\n",
    "print((df.iloc[:,193:]).columns)\n",
    "#48-186(不含) 科系\n",
    "#193到底 擅長工具\n",
    "\n",
    "print(set(df[\"工作經歷\"].values))\n",
    "print(set(df[\"職位\"].values))\n",
    "print(set(df[\"需求人數\"].values))\n",
    "print(set(df[\"學歷要求\"].values))\n",
    "print(set(df[\"工作經歷\"].values))\n",
    "print(set(df['工作性質'].values))\n",
    "print(set(df['管理責任'].values))\n",
    "print(set(df['工作待遇_min'].values))"
   ]
  },
  {
   "cell_type": "code",
   "execution_count": 7,
   "metadata": {},
   "outputs": [
    {
     "name": "stdout",
     "output_type": "stream",
     "text": [
      "{18, 20, 22, 25, 30}\n"
     ]
    }
   ],
   "source": [
    "# label encoding\n",
    "\n",
    "edu_dict = {'高中':18,'專科':20, '大學':22, '碩士':25, '博士':30}\n",
    "df['學歷要求'] = df['學歷要求'].map(edu_dict)\n",
    "print(set(df['學歷要求'].values))\n",
    "\n",
    "working_time = {\"日班\":1,'輪班':2}\n",
    "df[\"上班時段_label\"] = df['上班時段'].map(working_time)\n",
    "\n",
    "tw_region_label = {\"臺北市\":1,\"新北市\":2,\"臺中市\":3,\"新竹市\":4,\"桃園市\":5,\"高雄市\":6,\"新竹縣\":7, '新竹市':8,\"臺南市\":9,\"苗栗縣\":10\n",
    ",\"彰化縣\":11,\"雲林縣\":12,\"宜蘭縣\":13,\"嘉義縣\":14,\"花蓮縣\":15,\"屏東縣\":16,\"南投縣\":17,\"嘉義市\":18,\"基隆市\":19,\n",
    "\"金門縣\":20,\"臺東縣\":21,\"澎湖縣\":22, \"連江縣\":23}\n",
    "df['縣市_label'] = df[\"縣市\"].map(tw_region_label)\n",
    "\n",
    "pst_label = {\"軟體_工程類人員\" : 1, \"MIS_網管類人員\":2}\n",
    "df[\"職位類別_label\"] = df['職位類別'].map(pst_label)\n",
    "\n",
    "# pst_2_label = {\"軟體設計工程師\":1\n",
    "# ,\"Internet程式設計師\":2\n",
    "# ,\"系統維護_操作人員\":3\n",
    "# ,\"韌體設計工程師\":4\n",
    "# ,\"系統分析師\":5\n",
    "# ,\"網路管理工程師\":6\n",
    "# ,\"其他資訊專業人員\":7\n",
    "# ,\"MIS程式設計師\":8\n",
    "# ,\"演算法開發工程師\":9\n",
    "# ,\"通訊軟體工程師\":10\n",
    "# ,\"資料庫管理人員\":11\n",
    "# ,\"軟體專案主管\":12\n",
    "# ,\"資訊設備管制人員\":13\n",
    "# ,\"資訊助理人員\":14\n",
    "# ,\"電玩程式設計師\":15\n",
    "# ,\"MIS_網管主管\":16\n",
    "# ,\"網路安全分析師\":17\n",
    "# ,\"MES工程師\":18\n",
    "# ,\"電子商務技術主管\":19\n",
    "# ,\"BIOS工程師\":20}\n",
    "# df[\"職位_label\"] = df[\"職位\"].map(pst_2_label)"
   ]
  },
  {
   "cell_type": "code",
   "execution_count": 8,
   "metadata": {},
   "outputs": [],
   "source": [
    "df[\"管理責任_\"] = None\n",
    "df[\"學歷要求_\"] = None\n",
    "df[\"需求人數_\"] = None\n",
    "df['職位_'] = None\n",
    "\n",
    "for i in range(len(df.values)):\n",
    "            # 管理責任\n",
    "    manage = df.loc[i, '管理責任']\n",
    "    if manage == 0 or manage == 4:\n",
    "        df.loc[i, '管理責任_'] = \"管理 0-4 人\"\n",
    "    elif manage == 8 or manage == 12:\n",
    "        df.loc[i, '管理責任_'] = \"管理 5-12 人\"\n",
    "    elif manage == 16:\n",
    "        df.loc[i, '管理責任_'] = \"管理 13 人以上\"\n",
    "\n",
    "    # {'高中':18,'專科':20, '大學':22, '碩士':25, '博士':30}\n",
    "    edu = df.loc[i, '學歷要求']\n",
    "    if edu == 18 or edu == 20 or edu == 22:\n",
    "        df.loc[i, '學歷要求_'] = \"高中-專科-大學\"\n",
    "    elif edu == 25:\n",
    "        df.loc[i, '學歷要求_'] = \"碩士\"\n",
    "    elif edu == 30:\n",
    "        df.loc[i, '學歷要求_'] = \"博士\"\n",
    "\n",
    "    # {1, 2, 3, 4, 5, 6, 7, 8, 9, 10, 11, \n",
    "    # 12, 13, 15, 18, 20, 21, 25, 30, 50, 51, 80, 99}\n",
    "    demand = df.loc[i, '需求人數']\n",
    "    if demand < 10:\n",
    "        df.loc[i, '需求人數_'] = \"需求 0-9 人\"\n",
    "    elif demand >= 10 and demand < 15:\n",
    "        df.loc[i, '需求人數_'] = \"需求 10-14 人\"\n",
    "    elif edu >= 15:\n",
    "        df.loc[i, '需求人數_'] = \"需求 15 人以上\"\n",
    "\n",
    "    # {'MIS程式設計師', '軟體專案主管', 'MES工程師', '資訊設備管制人員', \n",
    "    # '資料庫管理人員', '系統分析師', 'Internet程式設計師', 'BIOS工程師', \n",
    "    # '其他資訊專業人員', '演算法開發工程師', '網路安全分析師', '資訊助理人員', \n",
    "    # '通訊軟體工程師', '系統維護_操作人員', '網路管理工程師', '韌體設計工程師', \n",
    "    # 'MIS_網管主管', '電子商務技術主管', '電玩程式設計師', '軟體設計工程師'}\n",
    "\n",
    "    grp1 = ['BIOS工程師']\n",
    "    grp2 = ['電玩程式設計師','演算法開發工程師', 'Internet程式設計師', '軟體設計工程師']\n",
    "    grp3 = ['系統分析師', 'MIS_網管主管', '系統維護_操作人員', '韌體設計工程師','資料庫管理人員',\n",
    "    '資訊助理人員', 'MIS程式設計師', '其他資訊專業人員', '網路管理工程師', '資訊設備管制人員']\n",
    "    grp4 = ['網路安全分析師', 'MES工程師', '通訊軟體工程師','軟體專案主管', '電子商務技術主管' ]\n",
    "\n",
    "    pst = df.loc[i, '職位']\n",
    "    if pst in grp2:\n",
    "        df.loc[i, '職位_'] = \"職位 II\"\n",
    "    elif pst in grp3:\n",
    "        df.loc[i, '職位_'] = \"職位 III\"\n",
    "    elif pst in grp4:\n",
    "        df.loc[i, '職位_'] = \"職位 IV\"\n",
    "    elif pst in grp1:\n",
    "        df.loc[i, \"職位_\"] = '職位 I'\n",
    "    "
   ]
  },
  {
   "cell_type": "code",
   "execution_count": 9,
   "metadata": {
    "scrolled": false
   },
   "outputs": [
    {
     "name": "stdout",
     "output_type": "stream",
     "text": [
      "{'職位 III', '職位 IV', '職位 I', '職位 II'}\n"
     ]
    }
   ],
   "source": [
    "print(set(df[\"職位_\"].values))"
   ]
  },
  {
   "cell_type": "code",
   "execution_count": 10,
   "metadata": {
    "scrolled": true
   },
   "outputs": [],
   "source": [
    "# get dummies\n",
    "\n",
    "# df_pst = pd.get_dummies(df['職位'])\n",
    "df_pst_ = pd.get_dummies(df['職位_'])\n",
    "df_pst_cat = pd.get_dummies(df['職位類別'])\n",
    "df_country = pd.get_dummies(df['縣市'])\n",
    "df_area = pd.get_dummies(df['地區'])\n",
    "df_time = pd.get_dummies(df['上班時段'])\n",
    "\n",
    "df_edu_ = pd.get_dummies(df['學歷要求_'])\n",
    "df_res_ = pd.get_dummies(df['管理責任_'])\n",
    "df_dem_ = pd.get_dummies(df['需求人數_'])\n",
    "df_work_ = pd.get_dummies(df['工作經歷'])\n",
    "# df_pst_cat_ = pd.get_dummies(df['職位類別'])\n",
    "# df_county_ = pd.get_dummies(df['縣市'])\n",
    "# df_area_ = pd.get_dummies(df['地區'])\n",
    "# df_time_ = pd.get_dummies(df['上班時段'])\n",
    "\n",
    "#擅長工具\n",
    "df_tools = (df.iloc[:,193:-4]).copy()\n",
    "df = df.astype({'供需人數':'int64'})"
   ]
  },
  {
   "cell_type": "code",
   "execution_count": 11,
   "metadata": {},
   "outputs": [],
   "source": [
    "# select analysis data\n",
    "# col_list =['職位類別', '職位_','縣市', '地區', '供需人數', '需求人數_', '管理責任_',\n",
    "#            '上班時段', '工作經歷', '學歷要求_', '外商', '工作待遇_min']\n",
    "# dfana = df.loc[:,col_list]\n",
    "\n",
    "# reassign analysis data\n",
    "# col_list2 =['外商','供需人數', '工作待遇_min']\n",
    "# dfana_final = df.loc[:, col_list2].reset_index(drop=True)\n",
    "\n",
    "# df_test_select = pd.concat([dfana_final, df_pst_, df_pst_cat, df_country, df_area, df_time,\n",
    "#                             df_edu_, df_res_, df_dem_, df_work_, df_tools], axis=1)"
   ]
  },
  {
   "cell_type": "code",
   "execution_count": 12,
   "metadata": {},
   "outputs": [
    {
     "name": "stdout",
     "output_type": "stream",
     "text": [
      "Index(['博士', '碩士', '高中-專科-大學'], dtype='object')\n",
      "Index(['管理 0-4 人', '管理 13 人以上', '管理 5-12 人'], dtype='object')\n",
      "Index(['需求 0-9 人', '需求 10-14 人', '需求 15 人以上'], dtype='object')\n",
      "Index(['0-1年', '1-3年', '10年以上', '3-5年', '5-10年'], dtype='object')\n",
      "Index(['MIS_網管類人員', '軟體_工程類人員'], dtype='object')\n",
      "Index(['職位 I', '職位 II', '職位 III', '職位 IV'], dtype='object')\n",
      "Index(['南投縣', '嘉義市', '嘉義縣', '基隆市', '宜蘭縣', '屏東縣', '彰化縣', '新北市', '新竹市', '新竹縣',\n",
      "       '桃園市', '澎湖縣', '臺中市', '臺北市', '臺南市', '臺東縣', '花蓮縣', '苗栗縣', '金門縣', '雲林縣',\n",
      "       '高雄市'],\n",
      "      dtype='object')\n",
      "Index(['七堵區', '三峽區', '三民區', '三義鄉', '三芝區', '三重區', '中區', '中和區', '中埔鄉', '中壢區',\n",
      "       ...\n",
      "       '鹽水區', '鹿港鎮', '鹿草鄉', '麟洛鄉', '麥寮鄉', '麻豆區', '鼓山區', '龍井區', '龍潭區', '龜山區'],\n",
      "      dtype='object', length=180)\n",
      "Index(['日班', '輪班'], dtype='object')\n",
      "Index(['3G', '3ds-Max', '3ds-Max-Design', '6-Sigma', 'A+', 'ABAQUS', 'ADA',\n",
      "       'ADC', 'ADO', 'ADSL',\n",
      "       ...\n",
      "       '英文打字50~75', '英文打字75~100', '金旭飯店管裡系統', '金蝶', '鉅茂', '鼎基-ERP', '鼎新',\n",
      "       '上班時段_label', '縣市_label', '職位類別_label'],\n",
      "      dtype='object', length=503)\n"
     ]
    }
   ],
   "source": [
    "print(df_edu_.columns)\n",
    "print(df_res_.columns)\n",
    "print(df_dem_.columns)\n",
    "print(df_work_.columns)\n",
    "print(df_pst_cat.columns)\n",
    "print(df_pst_.columns)\n",
    "print(df_country.columns)\n",
    "print(df_area.columns)\n",
    "print(df_time.columns)\n",
    "print(df_tools.columns)"
   ]
  },
  {
   "cell_type": "markdown",
   "metadata": {},
   "source": []
  },
  {
   "cell_type": "markdown",
   "metadata": {},
   "source": [
    "df label encoding"
   ]
  },
  {
   "cell_type": "code",
   "execution_count": 13,
   "metadata": {},
   "outputs": [],
   "source": [
    "col_list = ['職位類別_label', '縣市_label', '上班時段_label', '外商', '供需人數', '工作待遇_min']\n",
    "df_ = df.loc[:, col_list].reset_index(drop=True)\n",
    "\n",
    "df_label = pd.concat([df_, df_pst_, df_area, df_edu_, df_res_, df_dem_, df_work_, df_tools], axis=1)"
   ]
  },
  {
   "cell_type": "code",
   "execution_count": 14,
   "metadata": {},
   "outputs": [
    {
     "name": "stdout",
     "output_type": "stream",
     "text": [
      "{64000, 33800, 85000, 42000, 41000, 27692, 30769, 32307, 35384, 48696, 36923, 38461, 40000, 1000000, 34370, 43076, 35400, 46153, 33866, 82000, 30800, 34900, 53846, 39000, 30300, 44125, 45150, 60000, 61538, 64615, 69230, 38000, 42611, 59000, 33400, 76923, 80000, 41600, 30850, 51846, 84615, 37000, 86153, 58000, 32400, 92307, 36500, 31900, 100000, 36000, 25250, 27810, 31400, 57000, 107692, 115384, 35000, 120000, 56000, 123076, 42700, 34000, 130769, 32466, 28371, 25300, 55000, 36570, 33500, 138461, 28900, 33000, 54000, 32500, 153846, 75000, 36600, 32000, 160000, 53000, 31500, 35600, 31000, 176923, 35100, 52000, 26400, 30500, 43307, 30000, 34100, 34615, 51000, 28473, 36153, 37692, 37180, 42307, 29000, 33100, 48461, 50000, 28500, 56153, 57692, 59230, 92000, 28000, 65384, 49000, 27500, 28015, 70000, 38769, 230769, 73076, 27000, 48000, 35200, 26500, 30200, 47500, 26000, 90000, 30100, 57750, 47000, 25500, 68000, 29600, 89000, 110000, 46000, 750000, 34230, 30648, 27070, 41409, 45000, 130000, 27600, 87000, 36316, 108000, 44000, 38370, 48100, 65000, 33770, 51692, 58350, 150000, 29175, 43000}\n"
     ]
    }
   ],
   "source": [
    "# drop predict data\n",
    "df_label = df_label.drop(df_label[pd.isnull(df_label[\"工作待遇_min\"])].index)\n",
    "df_label = df_label.drop(df_label[df_label[\"工作待遇_min\"] == 'Y'].index)\n",
    "\n",
    "df_label = df_label.astype({\"工作待遇_min\":'int64'})\n",
    "print(set(df_label.loc[:,'工作待遇_min']))"
   ]
  },
  {
   "cell_type": "markdown",
   "metadata": {},
   "source": [
    "df get dummies"
   ]
  },
  {
   "cell_type": "code",
   "execution_count": 15,
   "metadata": {},
   "outputs": [],
   "source": [
    "col_list2 = ['外商', '供需人數', '工作待遇_min']\n",
    "df2_ = df.loc[:, col_list2].reset_index(drop=True)\n",
    "\n",
    "df_dummies = pd.concat([df2_, df_pst_cat, df_pst_, df_country, df_area, df_time,\n",
    "                        df_edu_, df_res_, df_dem_, df_work_, df_tools], axis=1)"
   ]
  },
  {
   "cell_type": "code",
   "execution_count": 16,
   "metadata": {
    "tags": []
   },
   "outputs": [
    {
     "name": "stdout",
     "output_type": "stream",
     "text": [
      "{64000, 33800, 85000, 42000, 41000, 27692, 30769, 32307, 35384, 48696, 36923, 38461, 40000, 1000000, 34370, 43076, 35400, 46153, 33866, 82000, 30800, 34900, 53846, 39000, 30300, 44125, 45150, 60000, 61538, 64615, 69230, 38000, 42611, 59000, 33400, 76923, 80000, 41600, 30850, 51846, 84615, 37000, 86153, 58000, 32400, 92307, 36500, 31900, 100000, 36000, 25250, 27810, 31400, 57000, 107692, 115384, 35000, 120000, 56000, 123076, 42700, 34000, 130769, 32466, 28371, 25300, 55000, 36570, 33500, 138461, 28900, 33000, 54000, 32500, 153846, 75000, 36600, 32000, 160000, 53000, 31500, 35600, 31000, 176923, 35100, 52000, 26400, 30500, 43307, 30000, 34100, 34615, 51000, 28473, 36153, 37692, 37180, 42307, 29000, 33100, 48461, 50000, 28500, 56153, 57692, 59230, 92000, 28000, 65384, 49000, 27500, 28015, 70000, 38769, 230769, 73076, 27000, 48000, 35200, 26500, 30200, 47500, 26000, 90000, 30100, 57750, 47000, 25500, 68000, 29600, 89000, 110000, 46000, 750000, 34230, 30648, 27070, 41409, 45000, 130000, 27600, 87000, 36316, 108000, 44000, 38370, 48100, 65000, 33770, 51692, 58350, 150000, 29175, 43000}\n"
     ]
    }
   ],
   "source": [
    "# drop predict data\n",
    "df_dummies = df_dummies.drop(df_dummies[pd.isnull(df_dummies[\"工作待遇_min\"])].index)\n",
    "df_dummies = df_dummies.drop(df_dummies[df_dummies[\"工作待遇_min\"] == 'Y'].index)\n",
    "\n",
    "df_dummies = df_dummies.astype({\"工作待遇_min\":'int64'})\n",
    "print(set(df_dummies.loc[:,'工作待遇_min']))"
   ]
  },
  {
   "cell_type": "markdown",
   "metadata": {},
   "source": [
    "## cluster Heatmap"
   ]
  },
  {
   "cell_type": "code",
   "execution_count": null,
   "metadata": {},
   "outputs": [],
   "source": [
    "df_heatmap = df[['縣市','職位','管理責任','上班時段','工作經歷_數字','工作經歷','職位類別','需求人數','供需人數','外商','地區','學歷要求','工作待遇_min']]\n",
    "df_heatmap = df_heatmap.drop(df[df[\"工作待遇_min\"] == 'Y'].index)\n",
    "df_heatmap = df_heatmap.drop(df[pd.isnull(df[\"工作待遇_min\"])].index)\n",
    "df_heatmap = df_heatmap.astype({\"工作待遇_min\":'int64'})\n",
    "df_heatmap\n",
    "\n",
    "df_heatmap_data = pd.pivot_table(df_heatmap, values='工作待遇_min',\n",
    "                            index=['工作經歷'],\n",
    "                            columns='縣市',fill_value=0)\n",
    "df_heatmap_data.head()\n"
   ]
  },
  {
   "cell_type": "code",
   "execution_count": null,
   "metadata": {},
   "outputs": [],
   "source": [
    "\n",
    "from matplotlib import pyplot as plt\n",
    "from matplotlib.font_manager import FontProperties as font\n",
    "\n",
    "import matplotlib\n",
    "print(matplotlib.matplotlib_fname())\n",
    "print(matplotlib.get_cachedir())\n",
    "\n",
    "import matplotlib.pyplot as plt\n",
    "plt.rcParams['font.sans-serif']=['Microsoft JhengHei']\n",
    "# plt.rcParams['font.family']='sans-serif' \n",
    "# plt.rcParams['axes.unicode_minus'] = False"
   ]
  },
  {
   "cell_type": "code",
   "execution_count": null,
   "metadata": {},
   "outputs": [],
   "source": [
    "# make heatmap with Seaborn ClusterMap\n",
    "import pandas as pd\n",
    "import seaborn as sns\n",
    "import matplotlib.pyplot as plt\n",
    "\n",
    "sns.clustermap(df_heatmap_data)\n",
    "plt.savefig('heatmap_with_Seaborn_clustermap_工作經歷_類別_縣市.jpg',\n",
    "            dpi=150)\n"
   ]
  },
  {
   "cell_type": "code",
   "execution_count": null,
   "metadata": {},
   "outputs": [],
   "source": [
    "from interpret.glassbox import (LinearRegression,\n",
    "                                RegressionTree, \n",
    "                                ExplainableBoostingRegressor)\n",
    "\n",
    "import xgboost as xgb\n",
    "import pandas as pd\n",
    "import numpy as np\n",
    "import matplotlib.pyplot as plt; plt.style.use('seaborn')"
   ]
  },
  {
   "cell_type": "markdown",
   "metadata": {},
   "source": [
    "## sharply value "
   ]
  },
  {
   "cell_type": "code",
   "execution_count": null,
   "metadata": {},
   "outputs": [],
   "source": [
    "# df_heatmap.groupby(\"職位\").size()\n",
    "# df_heatmap.groupby(\"職位\").agg(['nunique'])\n",
    "\n",
    "df_test_select = df_test_select.reset_index(drop=True)\n",
    "\n"
   ]
  },
  {
   "cell_type": "code",
   "execution_count": null,
   "metadata": {},
   "outputs": [],
   "source": [
    "df_test_select.columns.duplicated()\n",
    "\n",
    "df_test_select = df_test_select.loc[:,~df_test_select.columns.duplicated()]\n",
    "\n",
    "# df_test_select.columns.duplicated()"
   ]
  },
  {
   "cell_type": "code",
   "execution_count": null,
   "metadata": {},
   "outputs": [],
   "source": [
    "# split data\n",
    "y = df_test_select['工作待遇_min']\n",
    "X = df_test_select.drop('工作待遇_min',axis=1).copy()\n",
    "X.head()\n",
    "y.head()\n",
    "\n",
    "X_train, X_test, y_train, y_test = train_test_split(X, y, test_size=0.1, random_state=0)\n",
    "\n",
    "# scaler = preprocessing.StandardScaler().fit(X_train)\n",
    "# X_train = scaler.transform(X_train)\n",
    "# X_test = scaler.transform(X_test)\n",
    "\n",
    "\n",
    "# check data type\n",
    "print('x train data shape = ',X_train.shape)\n",
    "print('y test data shape =',X_test.shape)\n",
    "\n",
    "\n"
   ]
  },
  {
   "cell_type": "code",
   "execution_count": null,
   "metadata": {},
   "outputs": [],
   "source": [
    "# col_list3 =['供需人數', '管理責任', '工作經歷_數字', '學歷要求', '外商']\n",
    "\n",
    "# X_train.columns.to_list()\n",
    "# X_train = X_train[col_list3]\n",
    "# X_test = X_test[col_list3]\n",
    "\n",
    "# X_train['外商'].values\n",
    "\n"
   ]
  },
  {
   "cell_type": "code",
   "execution_count": null,
   "metadata": {},
   "outputs": [],
   "source": [
    "print(X_train.shape)\n",
    "y_train.shape\n",
    "\n",
    "\n",
    "len(set(X_train.columns))\n"
   ]
  },
  {
   "cell_type": "code",
   "execution_count": null,
   "metadata": {},
   "outputs": [],
   "source": [
    "# model = xgb.XGBRegressor(max_depth=4, learning_rate=0.05, n_estimators=500)\n",
    "# model.fit(X_train, y_train)\n",
    "\n",
    "\n",
    "# XGBoost\n",
    "regressor = xgb.XGBRegressor(n_estimators=1000,reg_lambda=1,gamma=0,max_depth=5,learning_rate=0.05)\n",
    "\n",
    "regressor.fit(X_train, y_train)\n",
    "\n",
    "y_pred = regressor.predict(X_test)\n",
    "mse = mean_squared_error(y_test, y_pred)\n",
    "r2 = r2_score(y_test, y_pred)\n",
    "\n",
    "print('XG Boosting:')\n",
    "print('R-squared: {}'.format(r2))\n",
    "print('MSE: {}'.format(mse))"
   ]
  },
  {
   "cell_type": "code",
   "execution_count": null,
   "metadata": {},
   "outputs": [],
   "source": [
    "print(\"Best Iteration: {}\".format(regressor.get_booster().best_iteration))"
   ]
  },
  {
   "cell_type": "code",
   "execution_count": null,
   "metadata": {
    "tags": []
   },
   "outputs": [],
   "source": [
    "plt.figure(figsize=(15, 6))\n",
    "plt.bar(range(len(X_train.columns)),regressor.feature_importances_)\n",
    "plt.xticks(range(len(X_train.columns)), X_train.columns, rotation=-45, fontsize=14)\n",
    "plt.title('Feature importance', fontsize=14)\n",
    "plt.show()\n",
    "plt.savefig('feature_important.jpg')"
   ]
  },
  {
   "cell_type": "code",
   "execution_count": null,
   "metadata": {},
   "outputs": [],
   "source": [
    "pd.set_option('display.max_columns', None)\n",
    "feature_important = regressor.feature_importances_\n",
    "feature_cols = X_train.columns\n",
    " \n",
    "# Create the pandas DataFrame with column name is provided explicitly\n",
    "# df = pd.DataFrame(feature_important, columns=feature_cols)\n",
    " \n",
    "# print(feature_important)\n",
    "# print(feature_cols)\n",
    "\n",
    "feature = pd.DataFrame(feature_important, index=feature_cols, columns=['important'])\n",
    "feature.head(20)\n",
    "\n",
    "feature.sort_values(by=['important'], ascending=False)\n",
    "feature\n",
    "feature.groupby(\"important\").size()\n",
    "# feature.groupby(\"important\").agg(['nunique'])"
   ]
  },
  {
   "cell_type": "code",
   "execution_count": null,
   "metadata": {
    "tags": []
   },
   "outputs": [],
   "source": [
    "# saving the dataframe\n",
    "feature.to_csv('feaIm.csv', encoding='utf-8-sig')"
   ]
  },
  {
   "cell_type": "code",
   "execution_count": null,
   "metadata": {},
   "outputs": [],
   "source": [
    "import shap\n",
    "import tqdm as notebook_tqdm\n",
    "\n",
    "\n",
    "# explainer = shap.TreeExplainer(regressor)\n",
    "\n",
    "explainer = shap.Explainer(regressor)\n",
    "shap_values = explainer(X_train)\n"
   ]
  },
  {
   "cell_type": "code",
   "execution_count": null,
   "metadata": {},
   "outputs": [],
   "source": [
    "shap.plots.waterfall(shap_values[0])"
   ]
  },
  {
   "cell_type": "code",
   "execution_count": null,
   "metadata": {},
   "outputs": [],
   "source": [
    "X_train.columns"
   ]
  },
  {
   "cell_type": "code",
   "execution_count": null,
   "metadata": {},
   "outputs": [],
   "source": [
    "feature_shap = pd.DataFrame(shap_values[0].values, index = X_train.columns)\n",
    "feature_shap.to_csv('feaIm_shap.csv', encoding='utf-8-sig')"
   ]
  },
  {
   "cell_type": "code",
   "execution_count": null,
   "metadata": {
    "tags": []
   },
   "outputs": [],
   "source": [
    "shap.summary_plot(shap_values, X_train)"
   ]
  },
  {
   "cell_type": "code",
   "execution_count": null,
   "metadata": {},
   "outputs": [],
   "source": [
    "shap.summary_plot(shap_values, X_train, plot_type=\"bar\")"
   ]
  },
  {
   "cell_type": "markdown",
   "metadata": {},
   "source": [
    "## Model training"
   ]
  },
  {
   "cell_type": "code",
   "execution_count": 17,
   "metadata": {},
   "outputs": [],
   "source": [
    "# 兩種版本\n",
    "df_test_select = df_label.copy()\n",
    "# df_test_select = df_dummies.copy()"
   ]
  },
  {
   "cell_type": "code",
   "execution_count": 18,
   "metadata": {},
   "outputs": [
    {
     "name": "stdout",
     "output_type": "stream",
     "text": [
      "x train data shape =  (9069, 706)\n",
      "y test data shape = (1008, 706)\n"
     ]
    }
   ],
   "source": [
    "# split data\n",
    "y = df_test_select['工作待遇_min']\n",
    "X = df_test_select.drop('工作待遇_min',axis=1).copy()\n",
    "\n",
    "X_train, X_test, y_train, y_test = train_test_split(X, y, test_size=0.1, random_state=0)\n",
    "\n",
    "scaler = preprocessing.StandardScaler().fit(X_train)\n",
    "X_train = scaler.transform(X_train)\n",
    "X_test = scaler.transform(X_test)\n",
    "\n",
    "\n",
    "# check data type\n",
    "print('x train data shape = ',X_train.shape)\n",
    "print('y test data shape =',X_test.shape)"
   ]
  },
  {
   "cell_type": "code",
   "execution_count": null,
   "metadata": {},
   "outputs": [],
   "source": [
    "# Fit linear regression model\n",
    "lr = LinearRegression(random_state=2022, feature_names=X.columns)\n",
    "lr.fit(X_train, y_train, )\n",
    "print(\"Training finished.\")\n",
    "\n",
    "\n",
    "# Evaluate linear regression model\n",
    "y_pred = lr.predict(X_test)\n",
    "print(f\"Root Mean Squared Error: {round(mean_squared_error(y_test, y_pred)**(1/2), 2)}\")\n",
    "print(f\"R2: {round(r2_score(y_test, y_pred), 2)}\")"
   ]
  },
  {
   "cell_type": "code",
   "execution_count": null,
   "metadata": {},
   "outputs": [],
   "source": [
    "# Fit decision tree model for regression\n",
    "rt = RegressionTree(random_state=2022, max_depth=6)\n",
    "rt.fit(X_train, y_train)\n",
    "print(\"Training finished.\")\n",
    "\n",
    "# Evaluate decision tree model for regression\n",
    "y_pred = rt.predict(X_test)\n",
    "print(f\"Root Mean Squared Error: {round(mean_squared_error(y_test, y_pred)**(1/2), 2)}\")\n",
    "print(f\"R2: {round(r2_score(y_test, y_pred), 2)}\")"
   ]
  },
  {
   "cell_type": "code",
   "execution_count": null,
   "metadata": {},
   "outputs": [],
   "source": [
    "# Fit explainable boosting machine for regression\n",
    "ebr = ExplainableBoostingRegressor(random_state=2022)\n",
    "ebr.fit(X_train, y_train) \n",
    "print(\"Training finished.\")\n",
    "\n",
    "# Evaluate explainable boosting machine for regression\n",
    "y_pred = ebr.predict(X_test)\n",
    "print(f\"Root Mean Squared Error: {round(mean_squared_error(y_test, y_pred)**(1/2), 2)}\")\n",
    "print(f\"R2: {round(r2_score(y_test, y_pred), 2)}\")"
   ]
  },
  {
   "cell_type": "code",
   "execution_count": null,
   "metadata": {},
   "outputs": [],
   "source": []
  },
  {
   "cell_type": "code",
   "execution_count": null,
   "metadata": {},
   "outputs": [],
   "source": []
  },
  {
   "cell_type": "code",
   "execution_count": null,
   "metadata": {},
   "outputs": [],
   "source": []
  },
  {
   "cell_type": "code",
   "execution_count": null,
   "metadata": {},
   "outputs": [],
   "source": [
    "# Lasso\n",
    "\n",
    "model = linear_model.Lasso(alpha=1, max_iter = 100000)\n",
    "\n",
    "model.fit(X_train, y_train)\n",
    "\n",
    "y_pred = model.predict(X_test)\n",
    "\n",
    "print('Lasso\\n')\n",
    "print(\"Mean squared error: {}\".format((mean_squared_error(y_test, y_pred))))\n",
    "print('R2 score: {}'.format(r2_score(y_test, y_pred)))\n",
    "print('number of model coef: {}'.format(np.sum(model.coef_ != 0)))"
   ]
  },
  {
   "cell_type": "code",
   "execution_count": null,
   "metadata": {},
   "outputs": [],
   "source": [
    "# Ridge\n",
    "\n",
    "X_train, X_test, y_train, y_test = train_test_split(X, y, test_size=0.1, random_state=0)\n",
    "\n",
    "scaler = preprocessing.StandardScaler().fit(X_train)\n",
    "X_train = scaler.transform(X_train)\n",
    "X_test = scaler.transform(X_test)\n",
    "\n",
    "model = linear_model.Ridge(alpha=1.0, max_iter = 100000)\n",
    "\n",
    "model.fit(X_train, y_train)\n",
    "\n",
    "y_pred = model.predict(X_test)\n",
    "\n",
    "print('Ridge\\n')\n",
    "print(\"Mean squared error: {}\".format((mean_squared_error(y_test, y_pred))))\n",
    "print('R2 score: {}'.format(r2_score(y_test, y_pred)))\n",
    "print('number of model coef: {}'.format(np.sum(model.coef_ != 0)))"
   ]
  },
  {
   "cell_type": "code",
   "execution_count": null,
   "metadata": {},
   "outputs": [],
   "source": [
    "# Elastic\n",
    "\n",
    "X_train, X_test, y_train, y_test = train_test_split(X, y, test_size=0.1, random_state=0)\n",
    "\n",
    "scaler = preprocessing.StandardScaler().fit(X_train)\n",
    "X_train = scaler.transform(X_train)\n",
    "X_test = scaler.transform(X_test)\n",
    "\n",
    "model = linear_model.ElasticNet(alpha=1.0, l1_ratio=0.5, l2_ratio = 1, max_iter = 100000)\n",
    "\n",
    "model.fit(X_train, y_train)\n",
    "\n",
    "y_pred = model.predict(X_test)\n",
    "\n",
    "print('Elastic\\n')\n",
    "print(\"Mean squared error: {}\".format((mean_squared_error(y_test, y_pred))))\n",
    "print('R2 score: {}'.format(r2_score(y_test, y_pred)))\n",
    "print('number of model coef: {}'.format(np.sum(model.coef_ != 0)))"
   ]
  },
  {
   "cell_type": "code",
   "execution_count": null,
   "metadata": {},
   "outputs": [],
   "source": [
    "# KNN\n",
    "\n",
    "X_train, X_test, y_train, y_test = train_test_split(X, y, test_size=0.2)\n",
    "\n",
    "scaler = preprocessing.StandardScaler().fit(X_train)\n",
    "X_train = scaler.transform(X_train)\n",
    "X_test = scaler.transform(X_test)\n",
    "\n",
    "\n",
    "model = neighbors.KNeighborsClassifier(n_neighbors=3)   # KNN K值是3\n",
    "model.fit(X_train, y_train)\n",
    "\n",
    "y_pred = model.predict(X_test)\n",
    "\n",
    "accuracy = accuracy_score(y_test, y_pred)\n",
    "num_correct_samples = accuracy_score(y_test, y_pred, normalize=False)\n",
    "con_matrix = confusion_matrix(y_test, y_pred)\n",
    "\n",
    "print('KNN\\n')\n",
    "print('number of correct sample: {}'.format(num_correct_samples))\n",
    "print('accuracy: {}'.format(accuracy))\n",
    "print('confusion matrix: {}'.format(con_matrix))"
   ]
  },
  {
   "cell_type": "code",
   "execution_count": null,
   "metadata": {},
   "outputs": [],
   "source": [
    "# Random Forest\n",
    "\n",
    "os.environ[\"PATH\"] += os.pathsep + 'C:/Users/student/Desktop/BDSE_機器學習/ands-on_part5/example/example/release/bin'\n",
    "\n",
    "X_train, X_test, y_train, y_test = train_test_split(X, y, test_size=0.1)\n",
    "\n",
    "scaler = preprocessing.StandardScaler().fit(X_train)\n",
    "X_train = scaler.transform(X_train)\n",
    "\n",
    "\n",
    "model = RandomForestRegressor(max_depth=3, random_state=0)\n",
    "model.fit(X_train, y_train)\n",
    "\n",
    "X_test = scaler.transform(X_test)\n",
    "y_pred = model.predict(X_test)\n",
    "\n",
    "\n",
    "\n",
    "mse = mean_squared_error(y_test, y_pred)\n",
    "r2 = r2_score(y_test, y_pred)\n",
    "\n",
    "\n",
    "print('Random Forest:')\n",
    "print('R-squared: {}'.format(r2))\n",
    "print('MSE: {}'.format(mse))"
   ]
  },
  {
   "cell_type": "code",
   "execution_count": null,
   "metadata": {},
   "outputs": [],
   "source": [
    "# Ada Boost\n",
    "\n",
    "from sklearn.ensemble import BaggingRegressor\n",
    "from sklearn import metrics\n",
    "\n",
    "ensemble = BaggingRegressor(n_estimators=1000)\n",
    "\n",
    "ensemble.fit(X_train, y_train)\n",
    "predictions = ensemble.predict(X_test)\n",
    "\n",
    "r2 = metrics.r2_score(y_test, predictions)\n",
    "mse = metrics.mean_squared_error(y_test, predictions)\n",
    "\n",
    "print('Gradient Boosting:')\n",
    "print('R-squared: {}'.format(r2))\n",
    "print('MSE: {}'.format(mse))"
   ]
  },
  {
   "cell_type": "code",
   "execution_count": 20,
   "metadata": {},
   "outputs": [
    {
     "name": "stdout",
     "output_type": "stream",
     "text": [
      "XG Boosting:\n",
      "R-squared: 0.8473699167242392\n",
      "MSE: 45285012.666738994\n"
     ]
    }
   ],
   "source": [
    "# XGBoost\n",
    "regressor = xgb.XGBRegressor(n_estimators=4500,reg_lambda=10,gamma=0,max_depth=8,n_jobs = -1, random_state=0)\n",
    "\n",
    "regressor.fit(X_train, y_train)\n",
    "\n",
    "y_pred = regressor.predict(X_test)\n",
    "mse = mean_squared_error(y_test, y_pred)\n",
    "r2 = r2_score(y_test, y_pred)\n",
    "\n",
    "print('XG Boosting:')\n",
    "print('R-squared: {}'.format(r2))\n",
    "print('MSE: {}'.format(mse))"
   ]
  },
  {
   "cell_type": "code",
   "execution_count": 21,
   "metadata": {},
   "outputs": [
    {
     "name": "stdout",
     "output_type": "stream",
     "text": [
      "{'XG Boosting': 'n_estimators:2000,reg_lambda:1,max_depth:9', 'R-squared': 0.8668644390422212, 'MSE:': 39501030.43233999}\n",
      "{'XG Boosting': 'n_estimators:2000,reg_lambda:1,max_depth:11', 'R-squared': 0.8713918062001482, 'MSE:': 38157770.47536754}\n",
      "{'XG Boosting': 'n_estimators:2000,reg_lambda:1,max_depth:13', 'R-squared': 0.8705913668719737, 'MSE:': 38395259.077466026}\n",
      "{'XG Boosting': 'n_estimators:2000,reg_lambda:1,max_depth:15', 'R-squared': 0.8658017182573637, 'MSE:': 39816337.37033418}\n",
      "{'XG Boosting': 'n_estimators:2000,reg_lambda:3,max_depth:9', 'R-squared': 0.8671770529656933, 'MSE:': 39408278.5633742}\n",
      "{'XG Boosting': 'n_estimators:2000,reg_lambda:3,max_depth:11', 'R-squared': 0.8799046801539183, 'MSE:': 35632019.34850527}\n",
      "{'XG Boosting': 'n_estimators:2000,reg_lambda:3,max_depth:13', 'R-squared': 0.8881778796841815, 'MSE:': 33177379.100124262}\n",
      "{'XG Boosting': 'n_estimators:2000,reg_lambda:3,max_depth:15', 'R-squared': 0.8747714399576839, 'MSE:': 37155040.51391929}\n",
      "{'XG Boosting': 'n_estimators:2000,reg_lambda:5,max_depth:9', 'R-squared': 0.8858546997624941, 'MSE:': 33866661.51367477}\n",
      "{'XG Boosting': 'n_estimators:2000,reg_lambda:5,max_depth:11', 'R-squared': 0.8763462635689938, 'MSE:': 36687793.78473289}\n",
      "{'XG Boosting': 'n_estimators:2000,reg_lambda:5,max_depth:13', 'R-squared': 0.8661016501221556, 'MSE:': 39727348.24050635}\n",
      "{'XG Boosting': 'n_estimators:2000,reg_lambda:5,max_depth:15', 'R-squared': 0.8629939162910167, 'MSE:': 40649406.087082446}\n",
      "{'XG Boosting': 'n_estimators:2000,reg_lambda:7,max_depth:9', 'R-squared': 0.873243545474445, 'MSE:': 37608363.47320711}\n",
      "{'XG Boosting': 'n_estimators:2000,reg_lambda:7,max_depth:11', 'R-squared': 0.8692983075490188, 'MSE:': 38778906.95711148}\n",
      "{'XG Boosting': 'n_estimators:2000,reg_lambda:7,max_depth:13', 'R-squared': 0.8641285971051298, 'MSE:': 40312748.76542602}\n",
      "{'XG Boosting': 'n_estimators:2000,reg_lambda:7,max_depth:15', 'R-squared': 0.8572740580682796, 'MSE:': 42346475.540950306}\n",
      "{'XG Boosting': 'n_estimators:2000,reg_lambda:9,max_depth:9', 'R-squared': 0.8806533756237136, 'MSE:': 35409883.03628201}\n",
      "{'XG Boosting': 'n_estimators:2000,reg_lambda:9,max_depth:11', 'R-squared': 0.881043609273061, 'MSE:': 35294101.5640164}\n",
      "{'XG Boosting': 'n_estimators:2000,reg_lambda:9,max_depth:13', 'R-squared': 0.8684962755055594, 'MSE:': 39016868.1143597}\n",
      "{'XG Boosting': 'n_estimators:2000,reg_lambda:9,max_depth:15', 'R-squared': 0.8704783796401956, 'MSE:': 38428782.14259472}\n",
      "{'XG Boosting': 'n_estimators:3000,reg_lambda:1,max_depth:9', 'R-squared': 0.8660048699765776, 'MSE:': 39756062.698523596}\n",
      "{'XG Boosting': 'n_estimators:3000,reg_lambda:1,max_depth:11', 'R-squared': 0.8712776066847109, 'MSE:': 38191653.22241268}\n",
      "{'XG Boosting': 'n_estimators:3000,reg_lambda:1,max_depth:13', 'R-squared': 0.8705876119236857, 'MSE:': 38396373.16242973}\n",
      "{'XG Boosting': 'n_estimators:3000,reg_lambda:1,max_depth:15', 'R-squared': 0.8658017182573637, 'MSE:': 39816337.37033418}\n",
      "{'XG Boosting': 'n_estimators:3000,reg_lambda:3,max_depth:9', 'R-squared': 0.8663446385755224, 'MSE:': 39655254.09659696}\n",
      "{'XG Boosting': 'n_estimators:3000,reg_lambda:3,max_depth:11', 'R-squared': 0.879598623150651, 'MSE:': 35722825.79355363}\n",
      "{'XG Boosting': 'n_estimators:3000,reg_lambda:3,max_depth:13', 'R-squared': 0.888152361055645, 'MSE:': 33184950.42152902}\n",
      "{'XG Boosting': 'n_estimators:3000,reg_lambda:3,max_depth:15', 'R-squared': 0.8747721385367274, 'MSE:': 37154833.2470414}\n",
      "{'XG Boosting': 'n_estimators:3000,reg_lambda:5,max_depth:9', 'R-squared': 0.8854947898240628, 'MSE:': 33973446.00707832}\n",
      "{'XG Boosting': 'n_estimators:3000,reg_lambda:5,max_depth:11', 'R-squared': 0.8761529279035103, 'MSE:': 36745156.05482048}\n",
      "{'XG Boosting': 'n_estimators:3000,reg_lambda:5,max_depth:13', 'R-squared': 0.8659787624369948, 'MSE:': 39763808.748550735}\n",
      "{'XG Boosting': 'n_estimators:3000,reg_lambda:5,max_depth:15', 'R-squared': 0.8629881725238753, 'MSE:': 40651110.25026031}\n",
      "{'XG Boosting': 'n_estimators:3000,reg_lambda:7,max_depth:9', 'R-squared': 0.8730742851695028, 'MSE:': 37658582.636354886}\n",
      "{'XG Boosting': 'n_estimators:3000,reg_lambda:7,max_depth:11', 'R-squared': 0.868751515999298, 'MSE:': 38941138.816806145}\n",
      "{'XG Boosting': 'n_estimators:3000,reg_lambda:7,max_depth:13', 'R-squared': 0.863847737545781, 'MSE:': 40396079.18384492}\n",
      "{'XG Boosting': 'n_estimators:3000,reg_lambda:7,max_depth:15', 'R-squared': 0.8572641786948324, 'MSE:': 42349406.72949515}\n",
      "{'XG Boosting': 'n_estimators:3000,reg_lambda:9,max_depth:9', 'R-squared': 0.8817768628980738, 'MSE:': 35076546.813445784}\n",
      "{'XG Boosting': 'n_estimators:3000,reg_lambda:9,max_depth:11', 'R-squared': 0.8805962719756296, 'MSE:': 35426825.564067475}\n",
      "{'XG Boosting': 'n_estimators:3000,reg_lambda:9,max_depth:13', 'R-squared': 0.8682090153900097, 'MSE:': 39102097.56383734}\n",
      "{'XG Boosting': 'n_estimators:3000,reg_lambda:9,max_depth:15', 'R-squared': 0.8704195942062066, 'MSE:': 38446223.65258853}\n",
      "{'XG Boosting': 'n_estimators:4000,reg_lambda:1,max_depth:9', 'R-squared': 0.8658215524497694, 'MSE:': 39810452.60872591}\n",
      "{'XG Boosting': 'n_estimators:4000,reg_lambda:1,max_depth:11', 'R-squared': 0.8712608744541583, 'MSE:': 38196617.638707645}\n",
      "{'XG Boosting': 'n_estimators:4000,reg_lambda:1,max_depth:13', 'R-squared': 0.8705876119236857, 'MSE:': 38396373.16242973}\n",
      "{'XG Boosting': 'n_estimators:4000,reg_lambda:1,max_depth:15', 'R-squared': 0.8658017182573637, 'MSE:': 39816337.37033418}\n",
      "{'XG Boosting': 'n_estimators:4000,reg_lambda:3,max_depth:9', 'R-squared': 0.8654822085677163, 'MSE:': 39911135.19807755}\n",
      "{'XG Boosting': 'n_estimators:4000,reg_lambda:3,max_depth:11', 'R-squared': 0.8795260788304037, 'MSE:': 35744349.53507817}\n",
      "{'XG Boosting': 'n_estimators:4000,reg_lambda:3,max_depth:13', 'R-squared': 0.8881483721879957, 'MSE:': 33186133.909856778}\n",
      "{'XG Boosting': 'n_estimators:4000,reg_lambda:3,max_depth:15', 'R-squared': 0.8747721385367274, 'MSE:': 37154833.2470414}\n",
      "{'XG Boosting': 'n_estimators:4000,reg_lambda:5,max_depth:9', 'R-squared': 0.8848572471053955, 'MSE:': 34162603.540578924}\n",
      "{'XG Boosting': 'n_estimators:4000,reg_lambda:5,max_depth:11', 'R-squared': 0.8760318370648259, 'MSE:': 36781083.442436054}\n",
      "{'XG Boosting': 'n_estimators:4000,reg_lambda:5,max_depth:13', 'R-squared': 0.8659722222831884, 'MSE:': 39765749.1979144}\n",
      "{'XG Boosting': 'n_estimators:4000,reg_lambda:5,max_depth:15', 'R-squared': 0.8629881098709938, 'MSE:': 40651128.839233525}\n",
      "{'XG Boosting': 'n_estimators:4000,reg_lambda:7,max_depth:9', 'R-squared': 0.8727964828861796, 'MSE:': 37741005.96764807}\n",
      "{'XG Boosting': 'n_estimators:4000,reg_lambda:7,max_depth:11', 'R-squared': 0.8684806531788977, 'MSE:': 39021503.224592075}\n",
      "{'XG Boosting': 'n_estimators:4000,reg_lambda:7,max_depth:13', 'R-squared': 0.8638205487444981, 'MSE:': 40404146.04185917}\n",
      "{'XG Boosting': 'n_estimators:4000,reg_lambda:7,max_depth:15', 'R-squared': 0.8572646832250536, 'MSE:': 42349257.03647943}\n",
      "{'XG Boosting': 'n_estimators:4000,reg_lambda:9,max_depth:9', 'R-squared': 0.8814943816159811, 'MSE:': 35160358.39346418}\n",
      "{'XG Boosting': 'n_estimators:4000,reg_lambda:9,max_depth:11', 'R-squared': 0.8803750626884154, 'MSE:': 35492457.87690191}\n",
      "{'XG Boosting': 'n_estimators:4000,reg_lambda:9,max_depth:13', 'R-squared': 0.8681229602331357, 'MSE:': 39127629.94110818}\n",
      "{'XG Boosting': 'n_estimators:4000,reg_lambda:9,max_depth:15', 'R-squared': 0.8704126519215455, 'MSE:': 38448283.41329933}\n",
      "{'XG Boosting': 'n_estimators:5000,reg_lambda:1,max_depth:9', 'R-squared': 0.8657316019056152, 'MSE:': 39837140.73890303}\n",
      "{'XG Boosting': 'n_estimators:5000,reg_lambda:1,max_depth:11', 'R-squared': 0.8712580021061692, 'MSE:': 38197469.85808851}\n",
      "{'XG Boosting': 'n_estimators:5000,reg_lambda:1,max_depth:13', 'R-squared': 0.8705876119236857, 'MSE:': 38396373.16242973}\n",
      "{'XG Boosting': 'n_estimators:5000,reg_lambda:1,max_depth:15', 'R-squared': 0.8658017182573637, 'MSE:': 39816337.37033418}\n",
      "{'XG Boosting': 'n_estimators:5000,reg_lambda:3,max_depth:9', 'R-squared': 0.8651750584116932, 'MSE:': 40002265.97916325}\n",
      "{'XG Boosting': 'n_estimators:5000,reg_lambda:3,max_depth:11', 'R-squared': 0.8794994976718432, 'MSE:': 35752236.10682257}\n",
      "{'XG Boosting': 'n_estimators:5000,reg_lambda:3,max_depth:13', 'R-squared': 0.8881480987908449, 'MSE:': 33186215.02619488}\n",
      "{'XG Boosting': 'n_estimators:5000,reg_lambda:3,max_depth:15', 'R-squared': 0.8747721385367274, 'MSE:': 37154833.2470414}\n",
      "{'XG Boosting': 'n_estimators:5000,reg_lambda:5,max_depth:9', 'R-squared': 0.8844887039715188, 'MSE:': 34271949.48423339}\n",
      "{'XG Boosting': 'n_estimators:5000,reg_lambda:5,max_depth:11', 'R-squared': 0.8759939802111127, 'MSE:': 36792315.48832851}\n",
      "{'XG Boosting': 'n_estimators:5000,reg_lambda:5,max_depth:13', 'R-squared': 0.8659708260845635, 'MSE:': 39766163.44699987}\n",
      "{'XG Boosting': 'n_estimators:5000,reg_lambda:5,max_depth:15', 'R-squared': 0.8629881098709938, 'MSE:': 40651128.839233525}\n",
      "{'XG Boosting': 'n_estimators:5000,reg_lambda:7,max_depth:9', 'R-squared': 0.8724140372520489, 'MSE:': 37854476.75279239}\n",
      "{'XG Boosting': 'n_estimators:5000,reg_lambda:7,max_depth:11', 'R-squared': 0.868356304457129, 'MSE:': 39058397.21901003}\n",
      "{'XG Boosting': 'n_estimators:5000,reg_lambda:7,max_depth:13', 'R-squared': 0.8638178877292306, 'MSE:': 40404935.55928267}\n",
      "{'XG Boosting': 'n_estimators:5000,reg_lambda:7,max_depth:15', 'R-squared': 0.8572646832250536, 'MSE:': 42349257.03647943}\n"
     ]
    }
   ],
   "source": [
    "recipe1= [2000, 3000, 4000, 5000, 6000]\n",
    "recipe2= [1, 3, 5, 7, 9]\n",
    "recipe3=[9,11,13,15]\n",
    "results=[]\n",
    "for i in recipe1:\n",
    "    for j in recipe2:\n",
    "        for k in recipe3:\n",
    "            # XGBoost\n",
    "            regressor = xgb.XGBRegressor(n_estimators=i,reg_lambda=j,gamma=0,max_depth=k,n_jobs = -1, random_state=0)\n",
    "            regressor.fit(X_train, y_train)\n",
    "\n",
    "            y_pred = regressor.predict(X_test)\n",
    "            mse = mean_squared_error(y_test, y_pred)\n",
    "            r2 = r2_score(y_test, y_pred)\n",
    "            result={\n",
    "                'XG Boosting' : 'n_estimators:'+str(i)+',reg_lambda:'+str(j)+',max_depth:'+str(k) ,\n",
    "                'R-squared': r2,\n",
    "                'MSE:':mse\n",
    "            }\n",
    "            results.append(result)\n",
    "            print(result)\n",
    "            # print('XG Boosting:')\n",
    "            # print('R-squared: {}'.format(r2))\n",
    "            # print('MSE: {}'.format(mse))"
   ]
  },
  {
   "cell_type": "code",
   "execution_count": null,
   "metadata": {},
   "outputs": [],
   "source": [
    "import sklearn\n",
    "\n",
    "print(sklearn.metrics.SCORERS.keys())"
   ]
  },
  {
   "cell_type": "code",
   "execution_count": null,
   "metadata": {
    "scrolled": true
   },
   "outputs": [],
   "source": [
    "from sklearn.model_selection import StratifiedKFold\n",
    "kn = xgb.XGBRegressor()\n",
    "params = {'n_estimators':[1000],'reg_lambda':[1],'gamma':[0],'max_depth':range(3, 10)}\n",
    "\n",
    "scoring = ['r2','neg_mean_squared_error','neg_root_mean_squared_error']\n",
    "\n",
    "\n",
    "\n",
    "grid_kn = GridSearchCV(estimator = kn,\n",
    "                        param_grid = params,\n",
    "                        cv = 5,\n",
    "                        scoring = scoring,\n",
    "                        refit = 'neg_root_mean_squared_error')\n",
    "\n",
    "grid_kn.fit(X_train, y_train)\n",
    "print(grid_kn.best_score_)\n",
    "print(grid_kn.best_params_)\n",
    "    \n"
   ]
  },
  {
   "cell_type": "code",
   "execution_count": null,
   "metadata": {},
   "outputs": [],
   "source": [
    "print(grid_kn.best_score_)\n",
    "print(grid_kn.best_params_)"
   ]
  },
  {
   "cell_type": "code",
   "execution_count": null,
   "metadata": {
    "scrolled": true
   },
   "outputs": [],
   "source": [
    "kn = AdaBoostRegressor()\n",
    "# params = {'n_estimators':[1000], 'base_estimator':DecisionTreeRegressor(max_depth=range(2, 11))}\n",
    "params = {'n_estimators':[1000], 'base_estimator':[2]}\n",
    "\n",
    "list = ['r2','neg_mean_squared_error','neg_root_mean_squared_error']\n",
    "\n",
    "\n",
    "for i in list:\n",
    "    grid_kn = GridSearchCV(estimator = kn,\n",
    "                            param_grid = params,\n",
    "                            cv = 5,\n",
    "                            scoring = i,\n",
    "                          error_score='raise')\n",
    "\n",
    "    grid_kn.fit(X_train, y_train)\n",
    "    print(grid_kn.best_score_)\n",
    "    print(grid_kn.best_params_)\n",
    "    \n"
   ]
  },
  {
   "cell_type": "code",
   "execution_count": null,
   "metadata": {},
   "outputs": [],
   "source": [
    "import numpy as np\n",
    "import pandas as pd\n",
    "import scipy.stats as ss\n",
    "import seaborn as sns\n",
    "\n",
    "print('Pandas version:', pd.__version__)\n",
    "# Pandas version: 1.3.0\n",
    "\n",
    "tips = sns.load_dataset(\"tips\")\n",
    "\n",
    "tips[\"total_bill_cut\"] = pd.cut(tips[\"total_bill\"],\n",
    "                                np.arange(0, 55, 5),\n",
    "                                include_lowest=True,\n",
    "                                right=False)\n",
    "\n",
    "def cramers_v(confusion_matrix):\n",
    "    \"\"\" calculate Cramers V statistic for categorial-categorial association.\n",
    "        uses correction from Bergsma and Wicher,\n",
    "        Journal of the Korean Statistical Society 42 (2013): 323-328\n",
    "    \"\"\"\n",
    "    chi2 = ss.chi2_contingency(confusion_matrix)[0]\n",
    "    \n",
    "    print(ss.chi2_contingency(confusion_matrix))\n",
    "\n",
    "\n",
    "    print(chi2)\n",
    "    n = confusion_matrix.sum()\n",
    "    print(n)\n",
    "    phi2 = chi2 / n\n",
    "    print(phi2)\n",
    "    r, k = confusion_matrix.shape\n",
    "    phi2corr = max(0, phi2 - ((k-1)*(r-1))/(n-1))\n",
    "    rcorr = r - ((r-1)**2)/(n-1)\n",
    "    kcorr = k - ((k-1)**2)/(n-1)\n",
    "    return np.sqrt(phi2corr / min((kcorr-1), (rcorr-1)))\n",
    "\n",
    "confusion_matrix = pd.crosstab(tips[\"day\"], tips[\"time\"])\n",
    "cramers_v(confusion_matrix.values)\n",
    "print(confusion_matrix)\n",
    "\n",
    "# Out[2]: 0.9386619340722221\n",
    "\n",
    "confusion_matrix = pd.crosstab(tips[\"total_bill_cut\"], tips[\"time\"])\n",
    "cramers_v(confusion_matrix.values)\n",
    "# Out[3]: 0.1649870749498837\n",
    "\n",
    "tips"
   ]
  },
  {
   "cell_type": "code",
   "execution_count": null,
   "metadata": {},
   "outputs": [],
   "source": [
    "\n",
    "\n"
   ]
  }
 ],
 "metadata": {
  "kernelspec": {
   "display_name": "python3",
   "language": "python",
   "name": "python3"
  },
  "language_info": {
   "codemirror_mode": {
    "name": "ipython",
    "version": 3
   },
   "file_extension": ".py",
   "mimetype": "text/x-python",
   "name": "python",
   "nbconvert_exporter": "python",
   "pygments_lexer": "ipython3",
   "version": "3.9.15"
  },
  "vscode": {
   "interpreter": {
    "hash": "2e768087b532071671ae8a7186f7133acb08351f58957c2e8821c9438d466df1"
   }
  }
 },
 "nbformat": 4,
 "nbformat_minor": 4
}
