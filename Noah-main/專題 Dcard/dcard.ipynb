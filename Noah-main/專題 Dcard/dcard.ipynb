{
 "cells": [
  {
   "cell_type": "code",
   "execution_count": null,
   "metadata": {},
   "outputs": [],
   "source": [
    "from selenium import webdriver\n",
    "from selenium.webdriver.chrome.service import Service\n",
    "from webdriver_manager.chrome import ChromeDriverManager\n",
    "from selenium.common.exceptions import TimeoutException\n",
    "from selenium.webdriver.support.ui import WebDriverWait\n",
    "from selenium.webdriver.support import expected_conditions as EC\n",
    "from selenium.webdriver.common.by import By\n",
    "from time import sleep\n",
    "import undetected_chromedriver as uc\n",
    "\n",
    "\n",
    "# 啟動瀏覽器工具的選項\n",
    "\n",
    "my_options = webdriver.ChromeOptions()\n",
    "# my_options.add_argument(\"--headless\")                #不開啟實體瀏覽器背景執行\n",
    "my_options.add_argument(\"--start-maximized\")  # 最大化視窗\n",
    "my_options.add_argument(\"--incognito\")  # 開啟無痕模式\n",
    "my_options.add_argument(\"--disable-popup-blocking\")  # 禁用彈出攔截\n",
    "my_options.add_argument(\"--disable-notifications\")  # 取消 chrome 推播通知\n",
    "my_options.add_argument(\"--lang=zh-TW\")  # 設定為正體中文\n",
    "my_options.add_argument('blink-settings=imagesEnabled=false') # 不載入圖\n",
    "\n",
    "# driver = webdriver.Chrome(\n",
    "#     options = my_options,\n",
    "#     service = Service(ChromeDriverManager().install())\n",
    "# )\n",
    "driver = uc.Chrome(options=my_options)\n",
    "\n",
    "\n",
    "results = []\n",
    "sresults=set()\n",
    "\n",
    "alinks = []\n",
    "salinks=set()\n",
    "atitle = []\n",
    "satitle=set()\n",
    "plink_ptitle = []\n",
    "setTmp = set()\n",
    "\n",
    "url='https://www.dcard.tw/f/tech_job'"
   ]
  },
  {
   "cell_type": "code",
   "execution_count": null,
   "metadata": {},
   "outputs": [],
   "source": [
    "driver.get(url)"
   ]
  },
  {
   "cell_type": "code",
   "execution_count": null,
   "metadata": {},
   "outputs": [],
   "source": [
    "all_txt=[]\n",
    "results=[]\n",
    "all_school=[]\n",
    "all_comment=[]\n",
    "all_hearts=[]\n",
    "sfloor=set()\n",
    "tmp=set()"
   ]
  },
  {
   "cell_type": "code",
   "execution_count": null,
   "metadata": {},
   "outputs": [],
   "source": [
    "def end_craw():\n",
    "    title = driver.find_element(By.CSS_SELECTOR,'div > h1').get_attribute('innerText')\n",
    "    #內文\n",
    "    txt = driver.find_element(By.CSS_SELECTOR,'article > div.atm_lo_c0ivcw.atm_le_1ad2xrm.cgmw135 > div > div').get_attribute('innerText').replace('\\n','')\n",
    "    date=driver.find_element(By.CSS_SELECTOR,' div.atm_c8_3rwk2t.atm_9s_1txwivl.atm_h_1h6ojuz.atm_h3_1fwxnve.i1ym7go5 > div:nth-child(2)').get_attribute('innerText')\n",
    "    WebDriverWait(driver, 10).until(\n",
    "        EC.presence_of_element_located(\n",
    "            (By.CSS_SELECTOR, \"#dcard-comment-anchor > div > div > div.atm_l8_1077ktj.c34rbji > section > div\")))\n",
    "    \n",
    "    try:\n",
    "        comments=driver.find_element(By.CSS_SELECTOR,'#dcard-comment-anchor > div > div > div.atm_l8_1077ktj.c34rbji > section > div').get_attribute('innerText')\n",
    "        comment=comments.replace('\\n','-').split('-')\n",
    "    except:\n",
    "        comments='None'\n",
    "    \n",
    "    result = {\n",
    "        '文章標題':title,\n",
    "        '發文內容':txt,\n",
    "        '發文時間':date,\n",
    "        # '愛心數量':all_hearts[i],\n",
    "        # '留言學校':all_school[i],\n",
    "        # '留言內文':all_comment[i],\n",
    "        '內文留言':comment\n",
    "        }\n",
    "    # tmp.add(result)\n",
    "    results.append(result)"
   ]
  },
  {
   "cell_type": "code",
   "execution_count": null,
   "metadata": {},
   "outputs": [],
   "source": [
    "def scroll_D():\n",
    "    \n",
    "    innerHeight = 0\n",
    "    offset = 0\n",
    "    count = 0\n",
    "    limit = 1\n",
    "    \n",
    "    # 在捲動到沒有元素動態產生前，持續捲動\n",
    "    while count <= limit:\n",
    "        # offset = driver.execute_script(\n",
    "        #     'return window.document.documentElement.scrollHeight;'\n",
    "        # )\n",
    "        sleep(1)\n",
    "        offset+=800\n",
    "\n",
    "        driver.execute_script(f'''\n",
    "            window.scrollTo({{\n",
    "                top: {offset}, \n",
    "                behavior: 'smooth' \n",
    "            }});\n",
    "        ''')\n",
    "        # 透過執行 js 語法來取得捲動後的當前總高度\n",
    "        innerHeight = driver.execute_script(\n",
    "            'return window.document.documentElement.scrollHeight;'\n",
    "        )\n",
    "        if offset >= innerHeight:\n",
    "           count += 1\n",
    "    "
   ]
  },
  {
   "cell_type": "code",
   "execution_count": null,
   "metadata": {},
   "outputs": [],
   "source": [
    "def test():\n",
    "    ctxt=driver.find_element(By.CSS_SELECTOR,'#dcard-comment-anchor > div > div > div.atm_l8_1077ktj.c34rbji').get_attribute('innerText')\n",
    "    z=ctxt.replace('\\n','')\n",
    "    x=z.replace('回覆','\\n')\n",
    "    c=x.replace('20',',')\n",
    "    results.append(c)"
   ]
  }
 ],
 "metadata": {
  "kernelspec": {
   "display_name": "Python 3.10.7 64-bit",
   "language": "python",
   "name": "python3"
  },
  "language_info": {
   "codemirror_mode": {
    "name": "ipython",
    "version": 3
   },
   "file_extension": ".py",
   "mimetype": "text/x-python",
   "name": "python",
   "nbconvert_exporter": "python",
   "pygments_lexer": "ipython3",
   "version": "3.10.7"
  },
  "orig_nbformat": 4,
  "vscode": {
   "interpreter": {
    "hash": "26de051ba29f2982a8de78e945f0abaf191376122a1563185a90213a26c5da77"
   }
  }
 },
 "nbformat": 4,
 "nbformat_minor": 2
}
